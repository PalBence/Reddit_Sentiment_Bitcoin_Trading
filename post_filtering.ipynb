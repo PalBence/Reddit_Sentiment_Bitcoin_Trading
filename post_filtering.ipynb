{
 "cells": [
  {
   "cell_type": "markdown",
   "metadata": {},
   "source": [
    "# Filtering Bitcoin related posts"
   ]
  },
  {
   "cell_type": "code",
   "execution_count": null,
   "metadata": {},
   "outputs": [],
   "source": [
    "import pandas as pd\n",
    "import os"
   ]
  },
  {
   "cell_type": "code",
   "execution_count": null,
   "metadata": {},
   "outputs": [],
   "source": [
    "def remove_irrelevant_rows(df):\n",
    "    '''Removes the [removed] and [deleted] rows from the dataframe. Removes discord spam links from the dataframe.'''\n",
    "    for index, row in df.iterrows():\n",
    "        if 'https://discord' in row['title']:\n",
    "            df.drop(index, inplace=True)\n",
    "    df = df[df['text'] != '[removed]']\n",
    "    df = df[df['text'] != '[deleted]']\n",
    "    df.reset_index(drop=True, inplace=True)\n",
    "    return df\n",
    "\n",
    "def search_keywords(df, keywords):\n",
    "    '''Searches for keywords in the dataframe.'''\n",
    "    df['contains_keyword'] = df['title'].apply(lambda x: any(keyword in x.lower() for keyword in keywords))\n",
    "    return df"
   ]
  },
  {
   "cell_type": "code",
   "execution_count": 3,
   "metadata": {},
   "outputs": [
    {
     "data": {
      "text/plain": [
       "['wallstreetbets2019_2020_submissions.csv',\n",
       " 'investing_submissions.csv',\n",
       " 'wallstreetbets2022_2023_submissions.csv',\n",
       " 'options_submissions.csv',\n",
       " 'wallstreetbets2021_submissions.csv',\n",
       " 'wallstreetbets2024_submissions.csv',\n",
       " 'wallstreetbets2017_2018_submissions.csv',\n",
       " 'stocks_submissions.csv',\n",
       " 'stockstobuy_submissions.csv']"
      ]
     },
     "execution_count": 3,
     "metadata": {},
     "output_type": "execute_result"
    }
   ],
   "source": [
    "files = os.listdir(r'./submissions')\n",
    "files"
   ]
  },
  {
   "cell_type": "markdown",
   "metadata": {},
   "source": [
    "## For each DataFrame remove the irrelevant spam and filter for Bitcoin related posts"
   ]
  },
  {
   "cell_type": "code",
   "execution_count": null,
   "metadata": {},
   "outputs": [],
   "source": [
    "# Keywords used to filter for Bitcoin related posts\n",
    "keywords = [\"bitcoin\", \"btc\", \"binance\", \"crypto\"]\n",
    "\n",
    "if os.path.exists('./filtered_dfs'):\n",
    "    print(\"Filtered directory already exists.\")\n",
    "else:\n",
    "    os.makedirs('./filtered_dfs')\n",
    "    print(\"Created filtered_dfs directory.\")\n",
    "\n",
    "for file in files:\n",
    "    print('Handling file:', file)\n",
    "    df = pd.read_csv(f\"./submissions/{file}\")\n",
    "    # remove NaN values\n",
    "    df.dropna(subset=['title'], inplace=True)\n",
    "    df = remove_irrelevant_rows(df)\n",
    "    keywords = [\"bitcoin\", \"btc\", \"binance\", \"crypto\"]\n",
    "\n",
    "    df = search_keywords(df, keywords)\n",
    "    df = df[df['contains_keyword'] == True]\n",
    "    df.reset_index(drop=True, inplace=True)\n",
    "    df.to_csv(f\"./filtered_dfs/{file}\", index=False)  \n",
    "    print(\"Saved file:\", file)"
   ]
  },
  {
   "cell_type": "code",
   "execution_count": null,
   "metadata": {},
   "outputs": [],
   "source": []
  }
 ],
 "metadata": {
  "kernelspec": {
   "display_name": "university",
   "language": "python",
   "name": "python3"
  },
  "language_info": {
   "codemirror_mode": {
    "name": "ipython",
    "version": 3
   },
   "file_extension": ".py",
   "mimetype": "text/x-python",
   "name": "python",
   "nbconvert_exporter": "python",
   "pygments_lexer": "ipython3",
   "version": "3.13.2"
  }
 },
 "nbformat": 4,
 "nbformat_minor": 2
}
